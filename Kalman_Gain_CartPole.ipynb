{
  "nbformat": 4,
  "nbformat_minor": 0,
  "metadata": {
    "colab": {
      "name": "Kalman_Gain_CartPole.ipynb",
      "provenance": [],
      "authorship_tag": "ABX9TyO32HafkOZCNZduLu22II0c",
      "include_colab_link": true
    },
    "kernelspec": {
      "name": "python3",
      "display_name": "Python 3"
    },
    "language_info": {
      "name": "python"
    }
  },
  "cells": [
    {
      "cell_type": "markdown",
      "metadata": {
        "id": "view-in-github",
        "colab_type": "text"
      },
      "source": [
        "<a href=\"https://colab.research.google.com/github/PLEX-GR00T/Cart_Pole_LQR/blob/main/Kalman_Gain_CartPole.ipynb\" target=\"_parent\"><img src=\"https://colab.research.google.com/assets/colab-badge.svg\" alt=\"Open In Colab\"/></a>"
      ]
    },
    {
      "cell_type": "code",
      "metadata": {
        "id": "fi2wj0_12sZv"
      },
      "source": [
        "from matplotlib import pyplot as plt\n",
        "from numpy.linalg import inv\n",
        "import numpy as np\n",
        "import pandas as pd\n",
        "import random"
      ],
      "execution_count": 49,
      "outputs": []
    },
    {
      "cell_type": "code",
      "metadata": {
        "id": "vP1sE1Vr3D90"
      },
      "source": [
        "M = 1\n",
        "m = 0.3\n",
        "b = 0.1\n",
        "l = 1\n",
        "I = 0.001\n",
        "g = 9.8\n",
        "\n",
        "A = (I + (m*(l**2)))\n",
        "B = (I*(M+m) + (M*m*(l)**2))\n",
        "C = ((m**2)*g*(l**2))\n",
        "D = (-m*l*b)\n",
        "E = ((m*g*l)*(M+m))\n",
        "f = (m*l)\n",
        "\n",
        "AA = -A*b/B\n",
        "BB = C/B\n",
        "CC = D/B\n",
        "DD = E/B\n",
        "\n",
        "EE = A/B\n",
        "FF = f/B\n",
        "\n",
        "N = 500\n",
        "\n",
        "dt = 0.01"
      ],
      "execution_count": 50,
      "outputs": []
    },
    {
      "cell_type": "code",
      "metadata": {
        "id": "K52Do72L3Jf_"
      },
      "source": [
        "Tb = np.array([\n",
        "            [0, 1,  0,  0],\n",
        "            [0, AA, BB, 0],\n",
        "            [0, 0,  0,  1],\n",
        "            [0, CC, DD, 0]]) \n",
        "\n",
        "Ta = np.array([[0], \n",
        "              [EE], \n",
        "              [0], \n",
        "              [FF]]) *dt\n",
        "\n",
        "Identity = np.identity(4, dtype = float)\n",
        "Ts = Identity + (Tb) * dt\n",
        "\n",
        "Ra = -2\n",
        "rho = 1\n",
        "sigma_noise_val = 0.01\n",
        "Rs = -np.array([[rho/20, 0, 0, 0],\n",
        "                [0, rho/20, 0, 0],\n",
        "                [0, 0, rho, 0],\n",
        "                [0, 0, 0, rho/10]])"
      ],
      "execution_count": 51,
      "outputs": []
    },
    {
      "cell_type": "code",
      "metadata": {
        "id": "X9g2dcGx3RPx"
      },
      "source": [
        "sigma_noise_matrix = np.identity(4) * sigma_noise_val\n",
        "\n",
        "v = dict()\n",
        "q = dict()\n",
        "\n",
        "v[N] = Rs\n",
        "q[N] = 0\n",
        "\n",
        "L = dict() # 1 to 1001"
      ],
      "execution_count": 52,
      "outputs": []
    },
    {
      "cell_type": "code",
      "metadata": {
        "id": "PgQE8iDu3qKa"
      },
      "source": [
        "for i in range(N, 1, -1):\n",
        "  v[i-1] = Rs + (Ts.T @ v[i].T @ Ts) - ((Ta.T @ v[i] @ Ts).T) * (inv(Ra + Ta.T @ v[i] @ Ta)) @ (Ta.T @ v[i] @ Ts)\n",
        "  q[i-1] = q[i] + np.trace(sigma_noise_matrix @ v[i])\n",
        "\n",
        "for i in range(1, N+1, 1):\n",
        "    L[i] = ((Ra + Ta.T @ v[i] @ Ta)**(-1)) @ (Ta.T @ v[i] @ Ts)"
      ],
      "execution_count": 53,
      "outputs": []
    },
    {
      "cell_type": "code",
      "metadata": {
        "colab": {
          "base_uri": "https://localhost:8080/"
        },
        "id": "2UanVuxbK7pg",
        "outputId": "8540e048-4da1-45c0-ac4a-52cc40af5fcf"
      },
      "source": [
        "print((5)**(-1))"
      ],
      "execution_count": 71,
      "outputs": [
        {
          "output_type": "stream",
          "name": "stdout",
          "text": [
            "0.2\n"
          ]
        }
      ]
    },
    {
      "cell_type": "code",
      "metadata": {
        "colab": {
          "base_uri": "https://localhost:8080/"
        },
        "id": "R8DlvOujIIrh",
        "outputId": "6a13ebcf-4b31-4521-aef9-c7dfe6fe58f7"
      },
      "source": [
        "print(L[N].shape)"
      ],
      "execution_count": 67,
      "outputs": [
        {
          "output_type": "stream",
          "name": "stdout",
          "text": [
            "(1, 4)\n"
          ]
        }
      ]
    },
    {
      "cell_type": "code",
      "metadata": {
        "colab": {
          "base_uri": "https://localhost:8080/"
        },
        "id": "LIrI20qr4H5L",
        "outputId": "ba9043b3-9557-4d67-c815-edb22bb42dff"
      },
      "source": [
        "print(v[N-1])\n",
        "print(q[N-1])\n",
        "print(L[N])"
      ],
      "execution_count": 54,
      "outputs": [
        {
          "output_type": "stream",
          "name": "stdout",
          "text": [
            "[[-1.00000000e-01 -5.00000000e-04  0.00000000e+00  0.00000000e+00]\n",
            " [-5.00000000e-04 -9.99051246e-02 -1.44952989e-03  9.98164660e-05]\n",
            " [ 0.00000000e+00 -1.44952989e-03 -2.00165194e+00 -2.26849614e-02]\n",
            " [ 0.00000000e+00  9.98164660e-05 -2.26849614e-02 -2.00099504e-01]]\n",
            "-0.012\n",
            "[[0.00000000e+00 2.49004026e-04 7.04619768e-05 4.97838972e-04]]\n"
          ]
        }
      ]
    },
    {
      "cell_type": "code",
      "metadata": {
        "id": "DixBmuuy4ZRV"
      },
      "source": [
        "sd_v = 0.0321\n",
        "V_ = np.identity(2) * sd_v\n",
        "sd_w = 0.0123\n",
        "W_ = np.identity(4) * sd_w\n",
        "\n",
        "# sensor matrix : \n",
        "C_ = np.array([\n",
        "            [0, 1, 0, 0],            \n",
        "            [0, 0, 0, 1]])\n",
        "Sigma = dict()\n",
        "Sigma[0] = np.identity(4) * 0.01\n",
        "\n",
        "X = dict()\n",
        "X[0] = np.array([[0.1], \n",
        "                [-0.05], \n",
        "                [0.1], \n",
        "                [0.01]])\n",
        "F = dict()\n",
        "F[0] = 0\n",
        "\n",
        "S = dict()\n",
        "S[0] = np.array([[0.1], \n",
        "                [-0.05], \n",
        "                [0.1], \n",
        "                [0.01]])\n",
        "K = dict()\n",
        "\n",
        "Wk = np.random.multivariate_normal([0,0,0,0], W_).reshape(4,1)\n",
        "Vk = np.random.multivariate_normal([0,0], V_).reshape(2,1)"
      ],
      "execution_count": 55,
      "outputs": []
    },
    {
      "cell_type": "code",
      "metadata": {
        "colab": {
          "base_uri": "https://localhost:8080/"
        },
        "id": "w6_fOPIj_ohh",
        "outputId": "2d3aa046-7cb1-48a5-8e1b-f94cc4e90498"
      },
      "source": [
        "print(Wk)\n",
        "print(Vk)"
      ],
      "execution_count": 56,
      "outputs": [
        {
          "output_type": "stream",
          "name": "stdout",
          "text": [
            "[[ 0.07171116]\n",
            " [-0.05556146]\n",
            " [-0.01108148]\n",
            " [ 0.14937189]]\n",
            "[[-0.25027369]\n",
            " [-0.4393299 ]]\n"
          ]
        }
      ]
    },
    {
      "cell_type": "code",
      "metadata": {
        "id": "4pX3EKkj5xTe"
      },
      "source": [
        "def S_calc(n):\n",
        "    S[n] = (Ts @ S[n-1]) + (Ta * F[n]) #+ Wk\n",
        "    return S[n]\n",
        "\n",
        "def Y_(n):\n",
        "    if n==0:\n",
        "        Y = (C_ @ S[0]) #+ Vk\n",
        "        return Y\n",
        "    else:\n",
        "        Y = (C_ @ S_calc(n)) #+ Vk\n",
        "        return Y"
      ],
      "execution_count": 57,
      "outputs": []
    },
    {
      "cell_type": "code",
      "metadata": {
        "id": "pdLCNlZK6OOX"
      },
      "source": [
        "for i in range(1,N,1):\n",
        "    Sigma[i] = W_ + (Ts @ Sigma[i-1] @ Ts.T) - (Ts @ Sigma[i-1] @ C_.T) @ (inv(V_ + C_ @ Sigma[i-1] @ C_.T)) @ (C_ @ Sigma[i-1] @ Ts.T)\n",
        "  \n",
        "for i in range(1,N+1,1):\n",
        "    K[i] = (Ts @ Sigma[i-1] @ C_.T) @ (inv(V_ + C_ @ Sigma[i-1] @ C_.T))\n",
        "    X[i] = (Ts @ X[i-1]) + (K[i] @ (Y_(i-1) - C_ @ X[i-1]))\n",
        "    F[i] = -(L[i] @ X[i])"
      ],
      "execution_count": 58,
      "outputs": []
    },
    {
      "cell_type": "code",
      "metadata": {
        "colab": {
          "base_uri": "https://localhost:8080/"
        },
        "id": "--curoRxL5-0",
        "outputId": "6ff9261f-ca17-4007-d9a9-165153255652"
      },
      "source": [
        "print(K[1].shape)"
      ],
      "execution_count": 75,
      "outputs": [
        {
          "output_type": "stream",
          "name": "stdout",
          "text": [
            "(4, 2)\n"
          ]
        }
      ]
    },
    {
      "cell_type": "code",
      "metadata": {
        "colab": {
          "base_uri": "https://localhost:8080/"
        },
        "id": "Uhlno-FcHz84",
        "outputId": "d53a4579-5012-4058-e194-d97ef06311a5"
      },
      "source": [
        "print(L[N])\n",
        "print(X[N])"
      ],
      "execution_count": 66,
      "outputs": [
        {
          "output_type": "stream",
          "name": "stdout",
          "text": [
            "[[0.00000000e+00 2.49004026e-04 7.04619768e-05 4.97838972e-04]]\n",
            "[[-55.00010433]\n",
            " [ 57.50427513]\n",
            " [139.15057962]\n",
            " [493.66121329]]\n"
          ]
        }
      ]
    },
    {
      "cell_type": "code",
      "metadata": {
        "colab": {
          "base_uri": "https://localhost:8080/",
          "height": 283
        },
        "id": "UYjiz2_ZLjoK",
        "outputId": "9340a7e7-4e22-41b6-a041-152a7e91b43f"
      },
      "source": [
        "pd.DataFrame([X[i][3][0]for i in range(1,len(X))]).plot()"
      ],
      "execution_count": 73,
      "outputs": [
        {
          "output_type": "execute_result",
          "data": {
            "text/plain": [
              "<matplotlib.axes._subplots.AxesSubplot at 0x7efcf59788d0>"
            ]
          },
          "metadata": {},
          "execution_count": 73
        },
        {
          "output_type": "display_data",
          "data": {
            "image/png": "[encoded data removed]",
            "text/plain": [
              "<Figure size 432x288 with 1 Axes>"
            ]
          },
          "metadata": {
            "needs_background": "light"
          }
        }
      ]
    },
    {
      "cell_type": "code",
      "metadata": {
        "colab": {
          "base_uri": "https://localhost:8080/",
          "height": 283
        },
        "id": "2SDy78Y8KhQP",
        "outputId": "7000efb1-8d98-494d-b94e-e99b30e70410"
      },
      "source": [
        "pd.DataFrame([X[i][2][0]for i in range(1,len(X))]).plot()"
      ],
      "execution_count": 70,
      "outputs": [
        {
          "output_type": "execute_result",
          "data": {
            "text/plain": [
              "<matplotlib.axes._subplots.AxesSubplot at 0x7efcf585b7d0>"
            ]
          },
          "metadata": {},
          "execution_count": 70
        },
        {
          "output_type": "display_data",
          "data": {
            "image/png": "[encoded data removed]",
            "text/plain": [
              "<Figure size 432x288 with 1 Axes>"
            ]
          },
          "metadata": {
            "needs_background": "light"
          }
        }
      ]
    },
    {
      "cell_type": "code",
      "metadata": {
        "colab": {
          "base_uri": "https://localhost:8080/",
          "height": 283
        },
        "id": "O6G6NtuzKNeG",
        "outputId": "fc847b01-0029-4af1-c9fd-02525b552101"
      },
      "source": [
        "pd.DataFrame([X[i][1][0]for i in range(1,len(X))]).plot()"
      ],
      "execution_count": 69,
      "outputs": [
        {
          "output_type": "execute_result",
          "data": {
            "text/plain": [
              "<matplotlib.axes._subplots.AxesSubplot at 0x7efcf58e3d10>"
            ]
          },
          "metadata": {},
          "execution_count": 69
        },
        {
          "output_type": "display_data",
          "data": {
            "image/png": "[encoded data removed]",
            "text/plain": [
              "<Figure size 432x288 with 1 Axes>"
            ]
          },
          "metadata": {
            "needs_background": "light"
          }
        }
      ]
    },
    {
      "cell_type": "code",
      "metadata": {
        "colab": {
          "base_uri": "https://localhost:8080/",
          "height": 283
        },
        "id": "bOctNTCDF2Jd",
        "outputId": "73668e5d-71e0-44a2-d473-e7c7bdcdd344"
      },
      "source": [
        "pd.DataFrame([X[i][0][0]for i in range(1,len(X))]).plot()"
      ],
      "execution_count": 65,
      "outputs": [
        {
          "output_type": "execute_result",
          "data": {
            "text/plain": [
              "<matplotlib.axes._subplots.AxesSubplot at 0x7efcfa456350>"
            ]
          },
          "metadata": {},
          "execution_count": 65
        },
        {
          "output_type": "display_data",
          "data": {
            "image/png": "[encoded data removed]",
            "text/plain": [
              "<Figure size 432x288 with 1 Axes>"
            ]
          },
          "metadata": {
            "needs_background": "light"
          }
        }
      ]
    },
    {
      "cell_type": "code",
      "metadata": {
        "colab": {
          "base_uri": "https://localhost:8080/",
          "height": 283
        },
        "id": "aTQxdzl3FWdI",
        "outputId": "1bc0dbd6-7e1b-4541-e626-77a816e7373a"
      },
      "source": [
        "pd.DataFrame([K[i][0]for i in range(1,len(K))]).plot()"
      ],
      "execution_count": 60,
      "outputs": [
        {
          "output_type": "execute_result",
          "data": {
            "text/plain": [
              "<matplotlib.axes._subplots.AxesSubplot at 0x7efcfa7e8f50>"
            ]
          },
          "metadata": {},
          "execution_count": 60
        },
        {
          "output_type": "display_data",
          "data": {
            "image/png": "[encoded data removed]",
            "text/plain": [
              "<Figure size 432x288 with 1 Axes>"
            ]
          },
          "metadata": {
            "needs_background": "light"
          }
        }
      ]
    },
    {
      "cell_type": "code",
      "metadata": {
        "colab": {
          "base_uri": "https://localhost:8080/",
          "height": 283
        },
        "id": "82Ihmzn1FDeX",
        "outputId": "138ce2b1-9e3f-4c38-a6e5-9992a22ae883"
      },
      "source": [
        "pd.DataFrame([F[i][0]for i in range(1,len(F))]).plot()"
      ],
      "execution_count": 61,
      "outputs": [
        {
          "output_type": "execute_result",
          "data": {
            "text/plain": [
              "<matplotlib.axes._subplots.AxesSubplot at 0x7efcfa75ad90>"
            ]
          },
          "metadata": {},
          "execution_count": 61
        },
        {
          "output_type": "display_data",
          "data": {
            "image/png": "[encoded data removed]",
            "text/plain": [
              "<Figure size 432x288 with 1 Axes>"
            ]
          },
          "metadata": {
            "needs_background": "light"
          }
        }
      ]
    },
    {
      "cell_type": "code",
      "metadata": {
        "colab": {
          "base_uri": "https://localhost:8080/",
          "height": 283
        },
        "id": "82TV74eUEwx2",
        "outputId": "57175148-8224-4d67-e36e-9ba491cbb89e"
      },
      "source": [
        "pd.DataFrame([L[i][0]for i in range(1,len(L))]).plot()"
      ],
      "execution_count": 62,
      "outputs": [
        {
          "output_type": "execute_result",
          "data": {
            "text/plain": [
              "<matplotlib.axes._subplots.AxesSubplot at 0x7efcfa6c5f50>"
            ]
          },
          "metadata": {},
          "execution_count": 62
        },
        {
          "output_type": "display_data",
          "data": {
            "image/png": "[encoded data removed]",
            "text/plain": [
              "<Figure size 432x288 with 1 Axes>"
            ]
          },
          "metadata": {
            "needs_background": "light"
          }
        }
      ]
    },
    {
      "cell_type": "code",
      "metadata": {
        "colab": {
          "base_uri": "https://localhost:8080/"
        },
        "id": "21B5vXHk-7CS",
        "outputId": "1b808885-55b3-463a-fb83-13f22165b195"
      },
      "source": [
        "print(F[N])\n",
        "print(X[N])"
      ],
      "execution_count": 63,
      "outputs": [
        {
          "output_type": "stream",
          "name": "stdout",
          "text": [
            "[[-0.26988741]]\n",
            "[[-55.00010433]\n",
            " [ 57.50427513]\n",
            " [139.15057962]\n",
            " [493.66121329]]\n"
          ]
        }
      ]
    },
    {
      "cell_type": "code",
      "metadata": {
        "colab": {
          "base_uri": "https://localhost:8080/",
          "height": 625
        },
        "id": "XLwGKHZtq7jR",
        "outputId": "c01c9455-a2e1-48d1-fed1-b240f73093b6"
      },
      "source": [
        "fig, axes = plt.subplots(nrows=2, ncols=2, figsize=(10,10))\n",
        "pd.DataFrame([float(X[i][0][0]) for i in X]).plot(ax=axes[0,0]); axes[0,0].set_title('Position v/s Time')\n",
        "pd.DataFrame([float(X[i][1][0]) for i in X]).plot(ax=axes[0,1]); axes[0,1].set_title('Velocity v/s Time')\n",
        "pd.DataFrame([float(X[i][2][0]) for i in X]).plot(ax=axes[1,0]); axes[1,0].set_title('Angle v/s Time')\n",
        "pd.DataFrame([float(X[i][3][0]) for i in X]).plot(ax=axes[1,1]); axes[1,1].set_title('Angular_Velocity v/s Time')"
      ],
      "execution_count": 72,
      "outputs": [
        {
          "output_type": "execute_result",
          "data": {
            "text/plain": [
              "Text(0.5, 1.0, 'Angular_Velocity v/s Time')"
            ]
          },
          "metadata": {},
          "execution_count": 72
        },
        {
          "output_type": "display_data",
          "data": {
            "image/png": "[encoded data removed]",
            "text/plain": [
              "<Figure size 720x720 with 4 Axes>"
            ]
          },
          "metadata": {
            "needs_background": "light"
          }
        }
      ]
    }
  ]
}